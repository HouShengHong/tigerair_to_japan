{
 "cells": [
  {
   "cell_type": "code",
   "execution_count": 268,
   "metadata": {},
   "outputs": [],
   "source": [
    "from selenium import webdriver\n",
    "from selenium.webdriver.common.keys import Keys\n",
    "from selenium.webdriver.common.by import By\n",
    "from datetime import datetime\n",
    "today = datetime.today().strftime(\"%Y%m%d\")\n",
    "driver = webdriver.Chrome()\n",
    "driver.get(\"https://booking.tigerairtw.com/zh-TW/index\")"
   ]
  },
  {
   "cell_type": "code",
   "execution_count": 269,
   "metadata": {},
   "outputs": [],
   "source": [
    "# choice chinese option \n",
    "elem_language = driver.find_element(By.XPATH,'/html/body/div[1]/div/div/header/div/div[2]/button[2]')\n",
    "elem_language.click()\n",
    "elem_language_option_chinese = driver.find_element(By.XPATH,'/html/body/div[6]/div/div/div[6]')\n",
    "elem_language_option_chinese.click()"
   ]
  },
  {
   "cell_type": "code",
   "execution_count": 270,
   "metadata": {},
   "outputs": [],
   "source": [
    "# choice curreny option \n",
    "elem_currency = driver.find_element(By.XPATH,'/html/body/div[1]/div/div/header/div/div[2]/button[3]/span[2]/div')\n",
    "elem_currency.click()\n",
    "elem_currency_option_TWD = driver.find_element(By.XPATH,'/html/body/div[6]/div/div/div[1]')\n",
    "elem_currency_option_TWD.click()"
   ]
  },
  {
   "cell_type": "code",
   "execution_count": 271,
   "metadata": {},
   "outputs": [],
   "source": [
    "# choice round trip option \n",
    "elme_round_trip = driver.find_element(By.XPATH,'/html/body/div[1]/div/div/div/main/div/div/form/div/div[1]/div[1]/div[2]/div[1]/div[1]')\n",
    "elme_round_trip.click()"
   ]
  },
  {
   "cell_type": "code",
   "execution_count": 272,
   "metadata": {},
   "outputs": [],
   "source": [
    "# choice outbound date \n",
    "elem_departure_date = driver.find_element(By.XPATH,'/html/body/div[1]/div/div/div/main/div/div/form/div/div[2]/div/div/div/div[2]/div/div/label[1]/div/div/div[1]/input')\n",
    "elem_departure_date.send_keys(today)\n",
    "elem_departure_date.send_keys(Keys.RETURN)"
   ]
  },
  {
   "cell_type": "code",
   "execution_count": 273,
   "metadata": {},
   "outputs": [],
   "source": [
    "# choice inbound date \n",
    "elem_return_date = driver.find_element(By.XPATH,'/html/body/div[1]/div/div/div/main/div/div/form/div/div[2]/div/div/div/div[2]/div/div/label[2]/div/div/div[1]/input')\n",
    "elem_return_date.send_keys(today)\n",
    "elem_return_date.send_keys(Keys.RETURN)"
   ]
  },
  {
   "cell_type": "code",
   "execution_count": 274,
   "metadata": {},
   "outputs": [],
   "source": [
    "elem_from_airport = driver.find_element(By.XPATH,'/html/body/div[1]/div/div/div/main/div/div/form/div/div[2]/div/div/div/div[1]/div/div/label[1]/div/div')\n",
    "elem_from_airport.click()\n"
   ]
  },
  {
   "cell_type": "code",
   "execution_count": 275,
   "metadata": {},
   "outputs": [],
   "source": [
    "elem_from_airport_option_TPE = driver.find_element(By.XPATH,'/html/body/div[6]/div/div/div/div[3]/button')\n",
    "elem_from_airport_option_TPE.click()"
   ]
  },
  {
   "cell_type": "code",
   "execution_count": 276,
   "metadata": {},
   "outputs": [],
   "source": [
    "elem_to_airport = driver.find_element(By.XPATH,'/html/body/div[1]/div/div/div/main/div/div/form/div/div[2]/div/div/div/div[1]/div/div/label[2]/div/div')\n",
    "elem_to_airport.click()"
   ]
  },
  {
   "cell_type": "code",
   "execution_count": 277,
   "metadata": {},
   "outputs": [],
   "source": [
    "elem_to_airport_option_TPE = driver.find_element(By.XPATH,'/html/body/div[6]/div/div/div/div[3]/button')\n",
    "elem_to_airport_option_TPE.click()"
   ]
  },
  {
   "cell_type": "code",
   "execution_count": 278,
   "metadata": {},
   "outputs": [],
   "source": [
    "elem_search = driver.find_element(By.XPATH,'/html/body/div[1]/div/div/div/main/div/div/form/div/div[3]/div[3]/button')\n",
    "elem_search.click()"
   ]
  },
  {
   "cell_type": "markdown",
   "metadata": {},
   "source": [
    "# ____________"
   ]
  },
  {
   "cell_type": "code",
   "execution_count": 279,
   "metadata": {},
   "outputs": [
    {
     "name": "stdout",
     "output_type": "stream",
     "text": [
      "__q_objt|[{\"__typename\":\"FlightSearchSession\",\"id\":\"666a5e2b4bfa07fbe50cb787\",\"adultCount\":1,\"childCount\":0,\"infantCount\":0,\"departureDate\":\"2024-06-13\",\"returnDate\":\"2024-06-13\",\"promotionCode\":\"\",\"stationPairs\":[{\"origin\":\"TPE\",\"destination\":\"NRT\"},{\"origin\":\"NRT\",\"destination\":\"TPE\"}],\"userCurrency\":\"TWD\",\"pricingCurrency\":\"TWD\",\"flightType\":\"roundTrip\",\"expiredAt\":\"2024-06-13T11:14:15+08:00\",\"portal\":null}]\n"
     ]
    }
   ],
   "source": [
    "local_storage = driver.execute_script('return window.localStorage.getItem(\"searchLogs\");')\n",
    "print(local_storage)"
   ]
  },
  {
   "cell_type": "code",
   "execution_count": 280,
   "metadata": {},
   "outputs": [
    {
     "name": "stdout",
     "output_type": "stream",
     "text": [
      "666a5e2b4bfa07fbe50cb787\n"
     ]
    }
   ],
   "source": [
    "local_storage = local_storage[local_storage.find(\"|\"):]\n",
    "local_storage = local_storage[local_storage.find(\"id\") + 5:]\n",
    "local_storage = local_storage[:local_storage.find('\"')]\n",
    "print(local_storage)\n"
   ]
  },
  {
   "cell_type": "code",
   "execution_count": null,
   "metadata": {},
   "outputs": [],
   "source": []
  }
 ],
 "metadata": {
  "kernelspec": {
   "display_name": "Python 3",
   "language": "python",
   "name": "python3"
  },
  "language_info": {
   "codemirror_mode": {
    "name": "ipython",
    "version": 3
   },
   "file_extension": ".py",
   "mimetype": "text/x-python",
   "name": "python",
   "nbconvert_exporter": "python",
   "pygments_lexer": "ipython3",
   "version": "3.12.4"
  }
 },
 "nbformat": 4,
 "nbformat_minor": 2
}
